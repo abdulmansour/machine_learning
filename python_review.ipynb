{
 "cells": [
  {
   "cell_type": "code",
   "execution_count": 1,
   "metadata": {},
   "outputs": [
    {
     "data": {
      "text/plain": [
       "12"
      ]
     },
     "execution_count": 1,
     "metadata": {},
     "output_type": "execute_result"
    }
   ],
   "source": [
    "x = 10\n",
    "x += 2\n",
    "print(x)"
   ]
  },
  {
   "cell_type": "code",
   "execution_count": 8,
   "metadata": {},
   "outputs": [
    {
     "name": "stdout",
     "output_type": "stream",
     "text": [
      "True\n",
      "False\n"
     ]
    },
    {
     "name": "stderr",
     "output_type": "stream",
     "text": [
      "<>:4: SyntaxWarning: \"is\" with a literal. Did you mean \"==\"?\n",
      "<>:4: SyntaxWarning: \"is\" with a literal. Did you mean \"==\"?\n",
      "<ipython-input-8-b0dc534163b0>:4: SyntaxWarning: \"is\" with a literal. Did you mean \"==\"?\n",
      "  print(x is 12.1)\n"
     ]
    }
   ],
   "source": [
    "# == and is operator\n",
    "x = 12.1\n",
    "print(x == 12.1)\n",
    "print(x is 12.1)"
   ]
  },
  {
   "cell_type": "code",
   "execution_count": 13,
   "metadata": {},
   "outputs": [
    {
     "name": "stdout",
     "output_type": "stream",
     "text": [
      "1.5\n",
      "1\n",
      "8\n",
      "3.0\n",
      "0.001\n"
     ]
    }
   ],
   "source": [
    "# numbers operations\n",
    "print(3/2)\n",
    "print(3//2)\n",
    "\n",
    "#exponentiation\n",
    "print(2**3)\n",
    "print(9**0.5)\n",
    "\n",
    "#float rep\n",
    "print(1e-3)"
   ]
  },
  {
   "cell_type": "code",
   "execution_count": 15,
   "metadata": {},
   "outputs": [
    {
     "name": "stdout",
     "output_type": "stream",
     "text": [
      "Python, Is, The, Best, Programming, Language\n",
      "['Python', 'Is', 'The', 'Best', 'Programming', 'Language']\n",
      "Python-Is-The-Best-Programming-Language\n"
     ]
    }
   ],
   "source": [
    "#split and join strings\n",
    "s = \"Python, Is, The, Best, Programming, Language\"\n",
    "print(s)\n",
    "s = s.split(', ')\n",
    "print(s)\n",
    "s = '-'.join(s);\n",
    "print(s)"
   ]
  },
  {
   "cell_type": "code",
   "execution_count": 17,
   "metadata": {},
   "outputs": [
    {
     "name": "stdout",
     "output_type": "stream",
     "text": [
      "bc\n",
      "cd\n",
      "ab\n"
     ]
    }
   ],
   "source": [
    "s = \"abcd\"\n",
    "print(s[1:3]) #begin at index 1, end 1 before index 3\n",
    "print(s[2:])\n",
    "print(s[:2])"
   ]
  },
  {
   "cell_type": "code",
   "execution_count": 23,
   "metadata": {},
   "outputs": [
    {
     "name": "stdout",
     "output_type": "stream",
     "text": [
      "{'1': {'name': 'John', 'height': 1.83, 'age': 23}}\n",
      "{'1': {'name': 'John', 'height': 1.83, 'age': 23}, '2': {'name': 'Molate', 'height': 1.8}}\n"
     ]
    }
   ],
   "source": [
    "x = {'1':{'name':'John', 'height':1.83}}\n",
    "x['1']['age'] = 23\n",
    "print(x)\n",
    "\n",
    "#merge two dictionaries\n",
    "y = {'2':{'name':'Molate', 'height':1.80}}\n",
    "x.update(y)\n",
    "print(x)"
   ]
  },
  {
   "cell_type": "code",
   "execution_count": 26,
   "metadata": {},
   "outputs": [
    {
     "name": "stdout",
     "output_type": "stream",
     "text": [
      "{1, 3, 4, 6, 8, 9}\n",
      "Ho\n"
     ]
    }
   ],
   "source": [
    "#sets, keep only unique values\n",
    "x = set([1, 3, 3, 4, 6, 8, 8, 9])\n",
    "print(x)\n",
    "\n",
    "#conditionals\n",
    "if (9 not in x) and (8 in x):\n",
    "    print(\"Hi\")\n",
    "elif 3 in x:\n",
    "    print(\"Ho\")\n",
    "else:\n",
    "    print(\"Ha\")"
   ]
  },
  {
   "cell_type": "code",
   "execution_count": 47,
   "metadata": {},
   "outputs": [
    {
     "name": "stdout",
     "output_type": "stream",
     "text": [
      "0\n",
      "1\n",
      "2\n",
      "For loop done!\n",
      "[0, 1, 2, 3]\n",
      "(0, 1, 2, 3)\n",
      "[(0, 'a'), (1, 'b'), (2, 'c')]\n",
      "[(0, 'a'), (1, 'b'), (2, 'c'), (3, 'd'), (4, 'e'), (5, 'z')]\n"
     ]
    }
   ],
   "source": [
    "#iterators and zip\n",
    "for i in range(3):\n",
    "    print(i)\n",
    "else:\n",
    "    print('For loop done!')\n",
    "    \n",
    "x = range(4)\n",
    "print(list(x))\n",
    "print(tuple(x))\n",
    "\n",
    "x = list(range(3))\n",
    "y = ['a', 'b', 'c', 'd', 'e', 'z']\n",
    "combined = list(zip(x, y))\n",
    "print(combined)\n",
    "\n",
    "combined = list(zip(list(range(len(y))), y))\n",
    "print(combined)"
   ]
  },
  {
   "cell_type": "code",
   "execution_count": 48,
   "metadata": {},
   "outputs": [
    {
     "name": "stdout",
     "output_type": "stream",
     "text": [
      "John 92\n",
      "Mary 76\n",
      "Mathew 84\n"
     ]
    }
   ],
   "source": [
    "#iterate over parallel lists\n",
    "x = ['John', 'Mary', 'Mathew']\n",
    "y = [92, 76, 84]\n",
    "\n",
    "for name, grade in zip(x, y):\n",
    "    print(name, grade)"
   ]
  },
  {
   "cell_type": "code",
   "execution_count": 50,
   "metadata": {},
   "outputs": [
    {
     "name": "stdout",
     "output_type": "stream",
     "text": [
      "John 92\n",
      "Mary 76\n",
      "Mathew 84\n"
     ]
    }
   ],
   "source": [
    "#iterate over dict key value pair\n",
    "x = {'John':92, 'Mary':76, 'Mathew':84}\n",
    "for name, grade in x.items():\n",
    "    print(name, grade)"
   ]
  },
  {
   "cell_type": "code",
   "execution_count": 55,
   "metadata": {},
   "outputs": [
    {
     "name": "stdout",
     "output_type": "stream",
     "text": [
      "[0, 2, 4, 6, 8]\n",
      "[0, 4, 16, 36, 64, 100, 144, 196, 256, 324]\n"
     ]
    }
   ],
   "source": [
    "#list comprehensions (very fast list population where for loops are required)\n",
    "x = [i for i in range(10) if i%2 == 0] # format [return - loop - condition]\n",
    "print(x)\n",
    "\n",
    "#only square even number for a range of 0 to 20\n",
    "x = [i**2 for i in range(20) if i%2 == 0]\n",
    "print(x)"
   ]
  },
  {
   "cell_type": "code",
   "execution_count": 58,
   "metadata": {},
   "outputs": [
    {
     "data": {
      "text/plain": [
       "0"
      ]
     },
     "execution_count": 58,
     "metadata": {},
     "output_type": "execute_result"
    }
   ],
   "source": [
    "#lambda fn\n",
    "f = lambda x: x%2"
   ]
  },
  {
   "cell_type": "code",
   "execution_count": 60,
   "metadata": {},
   "outputs": [
    {
     "name": "stdout",
     "output_type": "stream",
     "text": [
      "<__main__.Point2D object at 0x000001AE587AE190>\n",
      "10\n",
      "20\n",
      "0.0\n",
      "10 20\n",
      "2\n"
     ]
    }
   ],
   "source": [
    "#class creation\n",
    "class Point2D:\n",
    "    def __init__(self, x, y):\n",
    "        self.x = x\n",
    "        self.y = y\n",
    "        \n",
    "p = Point2D(10, 20)\n",
    "print(p)\n",
    "print(p.x)\n",
    "print(p.y)\n",
    "\n",
    "class Point2D_2:\n",
    "    def __init__(self, x=0.0, y=0.0):\n",
    "        self.assign(x, y)\n",
    "        \n",
    "    def assign(self, x, y):\n",
    "        self.x = x;\n",
    "        self.y = y\n",
    "    \n",
    "    @staticmethod\n",
    "    def dimensions():\n",
    "        return 2;\n",
    "\n",
    "p = Point2D_2()\n",
    "print(p.x)\n",
    "p.assign(10, 20)\n",
    "print(p.x, p.y)\n",
    "\n",
    "print(Point2D_2.dimensions())"
   ]
  },
  {
   "cell_type": "code",
   "execution_count": null,
   "metadata": {},
   "outputs": [],
   "source": []
  }
 ],
 "metadata": {
  "kernelspec": {
   "display_name": "Python 3",
   "language": "python",
   "name": "python3"
  },
  "language_info": {
   "codemirror_mode": {
    "name": "ipython",
    "version": 3
   },
   "file_extension": ".py",
   "mimetype": "text/x-python",
   "name": "python",
   "nbconvert_exporter": "python",
   "pygments_lexer": "ipython3",
   "version": "3.8.3"
  }
 },
 "nbformat": 4,
 "nbformat_minor": 4
}
